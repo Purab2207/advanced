{
 "cells": [
  {
   "cell_type": "code",
   "execution_count": 1,
   "id": "1d4ec71f",
   "metadata": {},
   "outputs": [
    {
     "name": "stderr",
     "output_type": "stream",
     "text": [
      "c:\\Users\\91982\\anaconda3\\envs\\project\\Lib\\site-packages\\tqdm\\auto.py:21: TqdmWarning: IProgress not found. Please update jupyter and ipywidgets. See https://ipywidgets.readthedocs.io/en/stable/user_install.html\n",
      "  from .autonotebook import tqdm as notebook_tqdm\n"
     ]
    }
   ],
   "source": [
    "import ast \n",
    "import pandas as pd\n",
    "import seaborn as sns \n",
    "\n",
    "from datasets import load_dataset\n",
    "import matplotlib.pyplot as plt \n",
    "\n",
    "dataset=load_dataset(\"lukebarousse/data_jobs\")\n",
    "df=dataset['train'].to_pandas()\n",
    "\n",
    "df['job_posted_date']=pd.to_datetime(df['job_posted_date'])\n",
    "df['job_posted_skill']=df['job_skills'].apply(lambda x:ast.literal_eval(x) if pd.notna(x) else x)\n",
    "\n",
    "import ast\n",
    "\n",
    "\n",
    "df['job_skills'] = df['job_skills'].apply(\n",
    "    lambda x: ast.literal_eval(x) if isinstance(x, str) else x)\n"
   ]
  },
  {
   "cell_type": "code",
   "execution_count": 3,
   "id": "9abec195",
   "metadata": {},
   "outputs": [],
   "source": [
    "df_DA_india = df[(df['job_country']== 'India')& (df['job_title_short']=='Data Analyst')].copy()"
   ]
  },
  {
   "cell_type": "code",
   "execution_count": 8,
   "id": "26977703",
   "metadata": {},
   "outputs": [
    {
     "data": {
      "text/html": [
       "<div>\n",
       "<style scoped>\n",
       "    .dataframe tbody tr th:only-of-type {\n",
       "        vertical-align: middle;\n",
       "    }\n",
       "\n",
       "    .dataframe tbody tr th {\n",
       "        vertical-align: top;\n",
       "    }\n",
       "\n",
       "    .dataframe thead th {\n",
       "        text-align: right;\n",
       "    }\n",
       "</style>\n",
       "<table border=\"1\" class=\"dataframe\">\n",
       "  <thead>\n",
       "    <tr style=\"text-align: right;\">\n",
       "      <th></th>\n",
       "      <th>salary_year_avg</th>\n",
       "      <th>job_skills</th>\n",
       "    </tr>\n",
       "  </thead>\n",
       "  <tbody>\n",
       "    <tr>\n",
       "      <th>11412</th>\n",
       "      <td>50400.0</td>\n",
       "      <td>python</td>\n",
       "    </tr>\n",
       "    <tr>\n",
       "      <th>11412</th>\n",
       "      <td>50400.0</td>\n",
       "      <td>sql</td>\n",
       "    </tr>\n",
       "    <tr>\n",
       "      <th>11412</th>\n",
       "      <td>50400.0</td>\n",
       "      <td>aws</td>\n",
       "    </tr>\n",
       "    <tr>\n",
       "      <th>11412</th>\n",
       "      <td>50400.0</td>\n",
       "      <td>azure</td>\n",
       "    </tr>\n",
       "    <tr>\n",
       "      <th>11412</th>\n",
       "      <td>50400.0</td>\n",
       "      <td>excel</td>\n",
       "    </tr>\n",
       "  </tbody>\n",
       "</table>\n",
       "</div>"
      ],
      "text/plain": [
       "       salary_year_avg job_skills\n",
       "11412          50400.0     python\n",
       "11412          50400.0        sql\n",
       "11412          50400.0        aws\n",
       "11412          50400.0      azure\n",
       "11412          50400.0      excel"
      ]
     },
     "execution_count": 8,
     "metadata": {},
     "output_type": "execute_result"
    }
   ],
   "source": [
    "df_DA_india=df_DA_india.dropna(subset=['salary_year_avg'])\n",
    "\n",
    "df_DA_india_exploded=df_DA_india.explode('job_skills')\n",
    "df_DA_india_exploded[['salary_year_avg', 'job_skills']].head(5)"
   ]
  },
  {
   "cell_type": "code",
   "execution_count": 10,
   "id": "e6cd509d",
   "metadata": {},
   "outputs": [],
   "source": [
    "df_DA_skills= df_DA_india_exploded.groupby('job_skills')['salary_year_avg'].agg(['count', 'median']).sort_values(by='count', ascending=False)\n",
    "\n",
    "df_DA_skills =df_DA_skills.rename(columns={'count':'skill_count' , 'median':'median_salary'})"
   ]
  },
  {
   "cell_type": "code",
   "execution_count": null,
   "id": "ec362e57",
   "metadata": {},
   "outputs": [],
   "source": []
  }
 ],
 "metadata": {
  "kernelspec": {
   "display_name": "project",
   "language": "python",
   "name": "python3"
  },
  "language_info": {
   "codemirror_mode": {
    "name": "ipython",
    "version": 3
   },
   "file_extension": ".py",
   "mimetype": "text/x-python",
   "name": "python",
   "nbconvert_exporter": "python",
   "pygments_lexer": "ipython3",
   "version": "3.11.13"
  }
 },
 "nbformat": 4,
 "nbformat_minor": 5
}
